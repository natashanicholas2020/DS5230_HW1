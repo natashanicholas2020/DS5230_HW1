{
 "cells": [
  {
   "cell_type": "markdown",
   "metadata": {},
   "source": [
    "Natasha Nicholas \n",
    "\n",
    "January 20, 2025\n",
    "\n",
    "HW1 Question 3-4"
   ]
  },
  {
   "cell_type": "markdown",
   "metadata": {},
   "source": [
    "Question 3"
   ]
  },
  {
   "cell_type": "code",
   "execution_count": 1,
   "metadata": {},
   "outputs": [
    {
     "name": "stderr",
     "output_type": "stream",
     "text": [
      "/Users/natashanicholas/Library/Python/3.9/lib/python/site-packages/urllib3/__init__.py:35: NotOpenSSLWarning: urllib3 v2 only supports OpenSSL 1.1.1+, currently the 'ssl' module is compiled with 'LibreSSL 2.8.3'. See: https://github.com/urllib3/urllib3/issues/3020\n",
      "  warnings.warn(\n"
     ]
    }
   ],
   "source": [
    "#all packages and libraries used\n",
    "from sklearn.datasets import fetch_20newsgroups\n",
    "from sklearn.feature_extraction.text import TfidfVectorizer\n",
    "import tensorflow as tf\n",
    "import numpy as np\n",
    "from sklearn.metrics import pairwise_distances\n",
    "from sklearn.metrics.pairwise import cosine_similarity\n",
    "from sklearn.model_selection import train_test_split\n",
    "from sklearn.metrics import accuracy_score"
   ]
  },
  {
   "cell_type": "markdown",
   "metadata": {},
   "source": [
    "Parsing and Normalization"
   ]
  },
  {
   "cell_type": "code",
   "execution_count": 2,
   "metadata": {},
   "outputs": [],
   "source": [
    "#parse and normalize MNIST\n",
    "(x_train, y_train), (x_test, y_test) = tf.keras.datasets.mnist.load_data()\n",
    "\n",
    "x_train = x_train.astype('float32') / 255.0\n",
    "x_test = x_test.astype('float32') / 255.0\n",
    "\n",
    "x_train_flat = x_train.reshape(x_train.shape[0], -1)\n",
    "x_test_flat = x_test.reshape(x_test.shape[0], -1)"
   ]
  },
  {
   "cell_type": "code",
   "execution_count": 3,
   "metadata": {},
   "outputs": [],
   "source": [
    "#parse and normalize 20 NewsGroups\n",
    "newsgroups = fetch_20newsgroups(subset='all')\n",
    "\n",
    "texts = newsgroups.data\n",
    "labels = newsgroups.target\n",
    "target_names = newsgroups.target_names\n",
    "\n",
    "vectorizer = TfidfVectorizer(stop_words='english')\n",
    "X = vectorizer.fit_transform(texts)"
   ]
  },
  {
   "cell_type": "markdown",
   "metadata": {},
   "source": [
    "Euclidian Distance -- Library"
   ]
  },
  {
   "cell_type": "code",
   "execution_count": 4,
   "metadata": {},
   "outputs": [],
   "source": [
    "#computes euclidean distance using a library\n",
    "euclidean_distances = pairwise_distances(x_train_flat, metric='euclidean')\n"
   ]
  },
  {
   "cell_type": "markdown",
   "metadata": {},
   "source": [
    "Euclidian Distance -- Function"
   ]
  },
  {
   "cell_type": "code",
   "execution_count": 5,
   "metadata": {},
   "outputs": [
    {
     "name": "stderr",
     "output_type": "stream",
     "text": [
      "/var/folders/gq/p6x3rrmx5_s159knk0tr1dth0000gn/T/ipykernel_83277/2822804266.py:12: RuntimeWarning: invalid value encountered in sqrt\n",
      "  dist_batch = np.sqrt(np.sum(batch**2, axis=1)[:, np.newaxis] + np.sum(X**2, axis=1) - 2 * np.dot(batch, X.T))\n"
     ]
    }
   ],
   "source": [
    "#computes euclidean distance using a written function\n",
    "\n",
    "def euclidean_distance_batch_optimized(X, batch_size=100):\n",
    "    num_samples = X.shape[0]\n",
    "    distance_matrix = np.zeros((num_samples, num_samples), dtype=np.float32)\n",
    "    \n",
    "    for i in range(0, num_samples, batch_size):\n",
    "        batch_end = min(i + batch_size, num_samples)\n",
    "        \n",
    "        batch = X[i:batch_end]\n",
    "\n",
    "        dist_batch = np.sqrt(np.sum(batch**2, axis=1)[:, np.newaxis] + np.sum(X**2, axis=1) - 2 * np.dot(batch, X.T))\n",
    "        \n",
    "        distance_matrix[i:batch_end, :] = dist_batch\n",
    "    \n",
    "    return distance_matrix\n",
    "\n",
    "x_train_flat = x_train.reshape(x_train.shape[0], -1)\n",
    "\n",
    "euclidean_distances_manual = euclidean_distance_batch_optimized(x_train_flat, batch_size=100)"
   ]
  },
  {
   "cell_type": "markdown",
   "metadata": {},
   "source": [
    "Cosine Similarity"
   ]
  },
  {
   "cell_type": "code",
   "execution_count": 6,
   "metadata": {},
   "outputs": [],
   "source": [
    "#computes cosine similarity using a library\n",
    "cosine_sim_sklearn = cosine_similarity(X)"
   ]
  },
  {
   "cell_type": "markdown",
   "metadata": {},
   "source": [
    "Question 4"
   ]
  },
  {
   "cell_type": "code",
   "execution_count": 5,
   "metadata": {},
   "outputs": [
    {
     "name": "stdout",
     "output_type": "stream",
     "text": [
      "Training KNN on MNIST (euclidean distance):\n",
      "MNIST Training Accuracy: 97.97%\n",
      "MNIST Test Accuracy: 97.33%\n",
      "\n",
      "Training KNN on 20 Newsgroups (cosine similarity):\n",
      "20 Newsgroups Training Accuracy: 5.00%\n",
      "20 Newsgroups Test Accuracy: 4.83%\n"
     ]
    }
   ],
   "source": [
    "def split_data(X, y, validation_size=0.1, test_size=0.1):\n",
    "    X_train, X_temp, y_train, y_temp = train_test_split(X, y, test_size=validation_size + test_size, random_state=42)\n",
    "    validation_size_adjusted = validation_size / (validation_size + test_size)\n",
    "    X_val, X_test, y_val, y_test = train_test_split(X_temp, y_temp, test_size=validation_size_adjusted, random_state=42)\n",
    "    return X_train, X_val, X_test, y_train, y_val, y_test\n",
    "\n",
    "#knn preidction\n",
    "def knn_predict(X_train, y_train, X_test, k=5, distance_matrix=None, batch_size=10):\n",
    "    predictions = []\n",
    "    \n",
    "    num_samples_test = X_test.shape[0]\n",
    "    \n",
    "    for i in range(0, num_samples_test, batch_size):\n",
    "        batch_end = min(i + batch_size, num_samples_test)\n",
    "        batch = X_test[i:batch_end]\n",
    "        \n",
    "        if distance_matrix is None:\n",
    "            distances = np.linalg.norm(X_train[:, np.newaxis] - batch, axis=2)\n",
    "        else:\n",
    "            distances = distance_matrix[i:batch_end, :]\n",
    "        \n",
    "        for j in range(batch.shape[0]):\n",
    "            neighbors_idx = np.argsort(distances[j])[:k]\n",
    "\n",
    "            neighbor_labels = y_train[neighbors_idx]\n",
    "            \n",
    "            most_common = np.bincount(neighbor_labels).argmax()\n",
    "            predictions.append(most_common)\n",
    "    \n",
    "    return np.array(predictions)\n",
    "\n",
    "#evaluates knn\n",
    "def evaluate_knn(X_train, y_train, X_test, y_test, k=5, distance_matrix=None, batch_size=10):\n",
    "    predictions = knn_predict(X_train, y_train, X_test, k, distance_matrix, batch_size)\n",
    "    \n",
    "    accuracy = accuracy_score(y_test, predictions)\n",
    "    \n",
    "    return accuracy\n",
    "\n",
    "#mnist\n",
    "X_train, X_val, X_test, y_train, y_val, y_test = split_data(x_train_flat, y_train)\n",
    "\n",
    "euclidean_distances_train = pairwise_distances(X_train, metric='euclidean')\n",
    "euclidean_distances_test = pairwise_distances(X_test, X_train, metric='euclidean')\n",
    "\n",
    "#knn on MNIST (euclidean distance)\n",
    "print(\"Training KNN on MNIST (euclidean distance):\")\n",
    "train_accuracy_mnist = evaluate_knn(X_train, y_train, X_train, y_train, k=5, distance_matrix=euclidean_distances_train, batch_size=10)\n",
    "test_accuracy_mnist = evaluate_knn(X_train, y_train, X_test, y_test, k=5, distance_matrix=euclidean_distances_test, batch_size=10)\n",
    "\n",
    "print(f\"MNIST Training Accuracy: {train_accuracy_mnist * 100:.2f}%\")\n",
    "print(f\"MNIST Test Accuracy: {test_accuracy_mnist * 100:.2f}%\")\n",
    "\n",
    "#20ng\n",
    "X_train, X_val, X_test, y_train, y_val, y_test = split_data(X, labels)\n",
    "\n",
    "cosine_sim_train = cosine_similarity(X_train)\n",
    "cosine_sim_test = cosine_similarity(X_test, X_train)\n",
    "\n",
    "#knn on 20ng (cosine)\n",
    "print(\"\\nTraining KNN on 20 Newsgroups (cosine similarity):\")\n",
    "train_accuracy_newsgroups = evaluate_knn(X_train, y_train, X_train, y_train, k=5, distance_matrix=cosine_sim_train, batch_size=10)\n",
    "test_accuracy_newsgroups = evaluate_knn(X_train, y_train, X_test, y_test, k=5, distance_matrix=cosine_sim_test, batch_size=10)\n",
    "\n",
    "print(f\"20 Newsgroups Training Accuracy: {train_accuracy_newsgroups * 100:.2f}%\")\n",
    "print(f\"20 Newsgroups Test Accuracy: {test_accuracy_newsgroups * 100:.2f}%\")"
   ]
  }
 ],
 "metadata": {
  "kernelspec": {
   "display_name": "Python 3",
   "language": "python",
   "name": "python3"
  },
  "language_info": {
   "codemirror_mode": {
    "name": "ipython",
    "version": 3
   },
   "file_extension": ".py",
   "mimetype": "text/x-python",
   "name": "python",
   "nbconvert_exporter": "python",
   "pygments_lexer": "ipython3",
   "version": "3.9.6"
  }
 },
 "nbformat": 4,
 "nbformat_minor": 2
}
